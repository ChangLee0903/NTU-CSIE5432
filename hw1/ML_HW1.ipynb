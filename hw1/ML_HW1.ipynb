{
 "cells": [
  {
   "cell_type": "code",
   "execution_count": null,
   "metadata": {},
   "outputs": [],
   "source": [
    "outcomes = set()\n",
    "temp = []\n",
    "def count_outcomes(outcomes, temp, legal_alpha=[], length=5):    \n",
    "    if len(temp) == length:\n",
    "        outcomes.add(''.join(temp))\n",
    "    \n",
    "    elif len(temp) < length:\n",
    "        for a in legal_alpha:\n",
    "            _temp = temp[:]\n",
    "            _temp.append(a)\n",
    "            count_outcomes(outcomes, _temp, legal_alpha)\n",
    "\n",
    "count_outcomes(outcomes, temp, legal_alpha=['A', 'B', 'D'], length=5)\n",
    "count_outcomes(outcomes, temp, legal_alpha=['B', 'D'], length=5)\n",
    "count_outcomes(outcomes, temp, legal_alpha=['A', 'B'], length=5)\n",
    "count_outcomes(outcomes, temp, legal_alpha=['D'], length=5)\n",
    "count_outcomes(outcomes, temp, legal_alpha=['A', 'C'], length=5)\n",
    "print(len(outcomes))"
   ]
  },
  {
   "cell_type": "markdown",
   "metadata": {},
   "source": [
    "# define function"
   ]
  },
  {
   "cell_type": "code",
   "execution_count": 2,
   "metadata": {},
   "outputs": [],
   "source": [
    "import numpy as np\n",
    "import random\n",
    "\n",
    "def get_data(path, bias=1.0, scale=1.0):\n",
    "    X = []\n",
    "    for x in open(path, 'r'):\n",
    "        x = x.strip().split('\\t')\n",
    "        x = [float(v) for v in x]\n",
    "        X.append([bias] + x)\n",
    "\n",
    "    X = np.array(X)\n",
    "    X, Y = np.array(X[:, :-1]), np.array(X[:, -1])\n",
    "    return X * scale, Y\n",
    "    \n",
    "def update_w(w, x, y):\n",
    "    result = np.sign(np.dot(w, x) * y)\n",
    "    if result <= 0:\n",
    "        return w + x * y, False\n",
    "    else:\n",
    "        return w, True\n",
    "\n",
    "def random_pick(X, Y):\n",
    "    idx = random.randint(0, X.shape[0] - 1)\n",
    "    return X[idx], Y[idx]\n",
    "        \n",
    "def PLA(X, Y):\n",
    "    # initialization\n",
    "    counter = 0\n",
    "    update_num = 0\n",
    "    N = X.shape[0]\n",
    "    w = np.zeros(X.shape[1:])\n",
    "    \n",
    "    # training\n",
    "    while counter < 5 * N:\n",
    "        x, y = random_pick(X, Y)\n",
    "        w, Iscorrect = update_w(w, x, y)\n",
    "        \n",
    "        if Iscorrect:\n",
    "            counter += 1\n",
    "        else:\n",
    "            counter = 0\n",
    "            update_num += 1\n",
    "            \n",
    "    return w, update_num"
   ]
  },
  {
   "cell_type": "markdown",
   "metadata": {},
   "source": [
    "# parsing data"
   ]
  },
  {
   "cell_type": "code",
   "execution_count": 3,
   "metadata": {},
   "outputs": [],
   "source": [
    "X, Y = get_data('hw1_train.dat')"
   ]
  },
  {
   "cell_type": "markdown",
   "metadata": {},
   "source": [
    "# Q16"
   ]
  },
  {
   "cell_type": "code",
   "execution_count": 4,
   "metadata": {},
   "outputs": [
    {
     "name": "stdout",
     "output_type": "stream",
     "text": [
      "11.0\n"
     ]
    }
   ],
   "source": [
    "update_num_list = []\n",
    "for i in range(1000):\n",
    "    _, update_num = PLA(X, Y)\n",
    "    update_num_list.append(update_num)\n",
    "print(np.median(update_num_list))"
   ]
  },
  {
   "cell_type": "markdown",
   "metadata": {},
   "source": [
    "# Q17"
   ]
  },
  {
   "cell_type": "code",
   "execution_count": 5,
   "metadata": {},
   "outputs": [
    {
     "name": "stdout",
     "output_type": "stream",
     "text": [
      "-8.0\n"
     ]
    }
   ],
   "source": [
    "w0_list = []\n",
    "for i in range(1000):\n",
    "    w_PLA, _ = PLA(X, Y)\n",
    "    w0_list.append(w_PLA[0])\n",
    "print(np.median(w0_list))"
   ]
  },
  {
   "cell_type": "markdown",
   "metadata": {},
   "source": [
    "# Q18"
   ]
  },
  {
   "cell_type": "code",
   "execution_count": 6,
   "metadata": {},
   "outputs": [
    {
     "name": "stdout",
     "output_type": "stream",
     "text": [
      "15.0\n"
     ]
    }
   ],
   "source": [
    "X, Y = get_data('hw1_train.dat', 10.0)\n",
    "update_num_list = []\n",
    "for i in range(1000):\n",
    "    _, update_num = PLA(X, Y)\n",
    "    update_num_list.append(update_num)\n",
    "print(np.median(update_num_list))"
   ]
  },
  {
   "cell_type": "markdown",
   "metadata": {},
   "source": [
    "# Q19"
   ]
  },
  {
   "cell_type": "code",
   "execution_count": 7,
   "metadata": {},
   "outputs": [
    {
     "name": "stdout",
     "output_type": "stream",
     "text": [
      "17.0\n"
     ]
    }
   ],
   "source": [
    "X, Y = get_data('hw1_train.dat', 0.0)\n",
    "update_num_list = []\n",
    "for i in range(1000):\n",
    "    _, update_num = PLA(X, Y)\n",
    "    update_num_list.append(update_num)\n",
    "print(np.median(update_num_list))"
   ]
  },
  {
   "cell_type": "markdown",
   "metadata": {},
   "source": [
    "# Q20"
   ]
  },
  {
   "cell_type": "code",
   "execution_count": 8,
   "metadata": {},
   "outputs": [
    {
     "name": "stdout",
     "output_type": "stream",
     "text": [
      "17.0\n"
     ]
    }
   ],
   "source": [
    "X, Y = get_data('hw1_train.dat', bias=0.0, scale=0.25)\n",
    "update_num_list = []\n",
    "for i in range(1000):\n",
    "    _, update_num = PLA(X, Y)\n",
    "    update_num_list.append(update_num)\n",
    "print(np.median(update_num_list))"
   ]
  },
  {
   "cell_type": "code",
   "execution_count": null,
   "metadata": {},
   "outputs": [],
   "source": [
    "import numpy as np\n",
    "import matplotlib.pyplot as plt\n",
    "plt.style.use('bmh')\n",
    "# fig = plt.figure()\n",
    "# ax = plt.axes()\n",
    "fig, ax = plt.subplots(figsize=(9,6))\n",
    "x = np.array([1, 3, 0, 2, 2, 3])\n",
    "y = np.array([0, 2, 2, 3, 4, 5])\n",
    "plt.plot(x[:3], y[:3], '.', mew=5, label='+1 samples')\n",
    "plt.plot(x[3:], y[3:], '.', mew=5, label='-1 samples')\n",
    "plt.plot(np.array([-1, 6]), np.array([2.5, 2.5]), linewidth=3, label='best g')\n",
    "plt.plot(np.array([-1, 6]), np.array([-0.5, -0.5]), linewidth=3, label='worst g')\n",
    "plt.xlim(-1, 6)\n",
    "plt.ylim(-1, 6)\n",
    "plt.title(\"Off-Training-Set (OTS)\")\n",
    "plt.xlabel(\"x\")\n",
    "plt.ylabel(\"y\")\n",
    "ax.legend()\n",
    "plt.figure(figsize=(100,80))\n",
    "plt.show()"
   ]
  },
  {
   "cell_type": "code",
   "execution_count": null,
   "metadata": {},
   "outputs": [],
   "source": [
    "import numpy as np\n",
    "import matplotlib.pyplot as plt\n",
    "import matplotlib.patches as patches\n",
    "x = 0\n",
    "y = 0\n",
    "size = 1\n",
    "color = [1, 0.8, 0.7]\n",
    "plt.style.use('bmh')\n",
    "fig, ax = plt.subplots(figsize=(9,6))\n",
    "rect = plt.Rectangle([x, y], size, size,\n",
    "                                 facecolor=color, edgecolor=color)\n",
    "ax.add_patch(rect)\n",
    "x = -1\n",
    "y = -1\n",
    "rect = plt.Rectangle([x, y], size, size,\n",
    "                                 facecolor=color, edgecolor=color, label='h2(x)=f(x)')\n",
    "ax.add_patch(rect)\n",
    "\n",
    "plt.plot(np.array([0, 0]), np.array([-1, 1]), linewidth=3, label='f(x)')\n",
    "plt.plot(np.array([-1, 1]), np.array([0, 0]), linewidth=3, label='h2(x)')\n",
    "\n",
    "plt.xlim(-1, 1)\n",
    "plt.ylim(-1, 1)\n",
    "plt.title(\"Bad Data - 1\")\n",
    "plt.xlabel(\"x1\")\n",
    "plt.ylabel(\"x2\")\n",
    "ax.legend()\n",
    "plt.show() "
   ]
  },
  {
   "cell_type": "code",
   "execution_count": null,
   "metadata": {},
   "outputs": [],
   "source": [
    "import numpy as np\n",
    "import matplotlib.pyplot as plt\n",
    "import matplotlib.patches as patches\n",
    "x = 0\n",
    "y = 0\n",
    "size = 1\n",
    "color = [1, 0.8, 0.7]\n",
    "plt.style.use('bmh')\n",
    "fig, ax = plt.subplots(figsize=(9,6))\n",
    "# rect = plt.Rectangle([x, y], size, size,\n",
    "#                                  facecolor=color, edgecolor=color)\n",
    "# ax.add_patch(rect)\n",
    "# x = -1\n",
    "# y = -1\n",
    "# rect = plt.Rectangle([x, y], size, size,\n",
    "#                                  )\n",
    "# ax.add_patch(rect)\n",
    "ax.add_patch(plt.Polygon((np.array([0, 0]), np.array([0, 1]), np.array([0.5, 1])), facecolor=color, edgecolor=color, label='h1(x) O, h2(x) O'))\n",
    "ax.add_patch(plt.Polygon((np.array([0, 0]), np.array([0, -1]), np.array([-0.5, -1])), facecolor=color, edgecolor=color))\n",
    "\n",
    "color = [0.7, 0.8, 1]\n",
    "ax.add_patch(plt.Polygon((np.array([0, 0]), np.array([1, 0]), np.array([1, 1]), np.array([0.5, 1])), facecolor=color, edgecolor=color, label='h1(x) O, h2(x) X'))\n",
    "ax.add_patch(plt.Polygon((np.array([0, 0]), np.array([-0.5, -1]), np.array([-1, -1]), np.array([-1, 0])), facecolor=color, edgecolor=color))\n",
    "\n",
    "color = [0.3, 0.8, 0.8]\n",
    "ax.add_patch(plt.Polygon((np.array([0, 0]), np.array([1, 0]), np.array([1, -1]), np.array([0, -1])), facecolor=color, edgecolor=color, label='h1(x) X, h2(x) O'))\n",
    "ax.add_patch(plt.Polygon((np.array([0, 0]), np.array([-1, 0]), np.array([-1, 1]), np.array([0, 1])), facecolor=color, edgecolor=color))\n",
    "\n",
    "plt.plot(np.array([0, 0]), np.array([-1, 1]), linewidth=3, label='f(x)')\n",
    "plt.plot(np.array([-1, 1]), np.array([0, 0]), linewidth=3, label='h1(x)')\n",
    "plt.plot(np.array([-0.5, 0.5]), np.array([-1, 1]), linewidth=3, label='h2(x)', color='green')\n",
    "plt.xlim(-1, 1)\n",
    "plt.ylim(-1, 1)\n",
    "plt.title(\"Bad Data - 2\")\n",
    "plt.xlabel(\"x1\")\n",
    "plt.ylabel(\"x2\")\n",
    "ax.legend()\n",
    "plt.show() "
   ]
  },
  {
   "cell_type": "code",
   "execution_count": null,
   "metadata": {},
   "outputs": [],
   "source": []
  }
 ],
 "metadata": {
  "kernelspec": {
   "display_name": "Python 3",
   "language": "python",
   "name": "python3"
  },
  "language_info": {
   "codemirror_mode": {
    "name": "ipython",
    "version": 3
   },
   "file_extension": ".py",
   "mimetype": "text/x-python",
   "name": "python",
   "nbconvert_exporter": "python",
   "pygments_lexer": "ipython3",
   "version": "3.7.7"
  }
 },
 "nbformat": 4,
 "nbformat_minor": 4
}
