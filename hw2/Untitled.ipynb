{
 "cells": [
  {
   "cell_type": "code",
   "execution_count": 1,
   "metadata": {},
   "outputs": [],
   "source": [
    "import numpy as np\n",
    "from scipy.stats import bernoulli\n",
    "np.set_printoptions(precision=3)"
   ]
  },
  {
   "cell_type": "code",
   "execution_count": 196,
   "metadata": {},
   "outputs": [],
   "source": [
    "import numpy as np\n",
    "from scipy.stats import bernoulli\n",
    "\n",
    "def generate_data(size, tau):\n",
    "    x = np.sort(np.random.uniform(-1, 1, size))\n",
    "    y = np.zeros(size).astype(int)\n",
    "    y[x > 0] = 1\n",
    "    y[x <= 0] = -1\n",
    "    \n",
    "    noisy_idx = bernoulli.rvs(tau, size=size) > 0\n",
    "    y[noisy_idx] = -y[noisy_idx]\n",
    "    \n",
    "    return x, y\n",
    "\n",
    "def get_g_Ein(x, y):\n",
    "    theta_set = ([-1] + list(((x[1:] + x[:-1]) / 2))) * 2\n",
    "    s_set = [-1] * len(x) + [1] * len(x)\n",
    "    hypothesis_set = np.array(sorted(tuple(zip(s_set, theta_set)), key=lambda x: x[0] + x[1]))\n",
    "    g, Ein = (-1, -1), 1\n",
    "    \n",
    "    for hypothesis in hypothesis_set:\n",
    "        err = get_err(hypothesis, x, y)\n",
    "        if Ein > err:\n",
    "            g, Ein = hypothesis, err\n",
    "        if Ein == 0:\n",
    "            break\n",
    "    return g, Ein\n",
    "\n",
    "def get_err(hypothesis, x, y):\n",
    "    s, theta = hypothesis\n",
    "    pred = np.ones(len(y)).astype(int)\n",
    "        \n",
    "    if s > 0:\n",
    "        pred[x <= theta] = -1\n",
    "    else:\n",
    "        pred[x > theta] = -1\n",
    "    \n",
    "    return (y != pred).sum() / len(y)\n",
    "\n",
    "def get_Eout(hypothesis, tau, IsSimulate=False):\n",
    "    if IsSimulate:\n",
    "        x_tst, y_tst = generate_data(100000, tau)\n",
    "        Eout = get_err(hypothesis, x_tst, y_tst)\n",
    "        return Eout\n",
    "    else:\n",
    "        s, theta = hypothesis\n",
    "        Eout = 0.5 * np.abs(theta) if s > 0 else 1 - 0.5 * np.abs(theta)\n",
    "        return (1 - 2 * tau) * Eout + tau\n",
    "\n",
    "def get_answer(exp_num, size, tau, IsSimulate=False):\n",
    "    ans = []\n",
    "    \n",
    "    for _ in range(exp_num):\n",
    "        random.seed(random.randint(1, 10000))\n",
    "        x_tra, y_tra = generate_data(size, tau)\n",
    "        \n",
    "        g, Ein = get_g_Ein(x_tra, y_tra)\n",
    "        Eout = get_Eout(g, tau, IsSimulate)\n",
    "        ans.append(Eout - Ein)\n",
    "        \n",
    "    return np.mean(ans)\n",
    "\n",
    "def run(size, tau):\n",
    "    diff_result = []\n",
    "    Ein = []\n",
    "    for exp_idx in range(10000):\n",
    "        random.seed(random.randint(1, 10000))\n",
    "        data_x, data_y = data_generator(size, tau)\n",
    "        deci_stump = Decision_Stump(tau , random_seed=exp_idx)\n",
    "        min_ein , param = deci_stump.train(data_x, data_y)\n",
    "        (theta, _) = param\n",
    "#         eout_tau = abs(theta)/2 + tau - tau*abs(theta)\n",
    "        eout_tau = get_Eout((_, theta), tau)\n",
    "        Ein.append(min_ein)\n",
    "        diff_result.append(eout_tau - min_ein)\n",
    "    print(np.mean(diff_result))"
   ]
  },
  {
   "cell_type": "code",
   "execution_count": 202,
   "metadata": {},
   "outputs": [
    {
     "name": "stdout",
     "output_type": "stream",
     "text": [
      "0.29238488400000007\n",
      "0.023803214\n",
      "0.366825371\n",
      "0.051540724999999996\n",
      "0.005653884999999998\n"
     ]
    }
   ],
   "source": [
    "print(get_answer(exp_num=10000, size=2, tau=0, IsSimulate=True))\n",
    "print(get_answer(exp_num=10000, size=20, tau=0, IsSimulate=True))\n",
    "print(get_answer(exp_num=10000, size=2, tau=0.1, IsSimulate=True))\n",
    "print(get_answer(exp_num=10000, size=20, tau=0.1, IsSimulate=True))\n",
    "print(get_answer(exp_num=10000, size=200, tau=0.1, IsSimulate=True))"
   ]
  },
  {
   "cell_type": "code",
   "execution_count": 203,
   "metadata": {},
   "outputs": [
    {
     "name": "stdout",
     "output_type": "stream",
     "text": [
      "0.290719858\n",
      "0.023999138999999996\n",
      "0.367527087\n",
      "0.050476233\n",
      "0.0050245479999999985\n"
     ]
    }
   ],
   "source": [
    "print(get_answer(exp_num=10000, size=2, tau=0, IsSimulate=True))\n",
    "print(get_answer(exp_num=10000, size=20, tau=0, IsSimulate=True))\n",
    "print(get_answer(exp_num=10000, size=2, tau=0.1, IsSimulate=True))\n",
    "print(get_answer(exp_num=10000, size=20, tau=0.1, IsSimulate=True))\n",
    "print(get_answer(exp_num=10000, size=200, tau=0.1, IsSimulate=True))"
   ]
  },
  {
   "cell_type": "code",
   "execution_count": 201,
   "metadata": {},
   "outputs": [
    {
     "name": "stdout",
     "output_type": "stream",
     "text": [
      "0.2928606328985101\n",
      "0.023638587826711775\n",
      "0.3681077809516546\n",
      "0.05115065328957497\n",
      "0.005227051999597672\n"
     ]
    }
   ],
   "source": [
    "print(get_answer(exp_num=10000, size=2, tau=0))\n",
    "print(get_answer(exp_num=10000, size=20, tau=0))\n",
    "print(get_answer(exp_num=10000, size=2, tau=0.1))\n",
    "print(get_answer(exp_num=10000, size=20, tau=0.1))\n",
    "print(get_answer(exp_num=10000, size=200, tau=0.1))"
   ]
  },
  {
   "cell_type": "code",
   "execution_count": 200,
   "metadata": {},
   "outputs": [
    {
     "name": "stdout",
     "output_type": "stream",
     "text": [
      "0.29629398112897787\n",
      "0.02415595889316911\n",
      "0.3690307662057251\n",
      "0.04918341730656399\n",
      "0.005787727180248098\n"
     ]
    }
   ],
   "source": [
    "print(get_answer(exp_num=10000, size=2, tau=0))\n",
    "print(get_answer(exp_num=10000, size=20, tau=0))\n",
    "print(get_answer(exp_num=10000, size=2, tau=0.1))\n",
    "print(get_answer(exp_num=10000, size=20, tau=0.1))\n",
    "print(get_answer(exp_num=10000, size=200, tau=0.1))"
   ]
  },
  {
   "cell_type": "code",
   "execution_count": 198,
   "metadata": {},
   "outputs": [
    {
     "name": "stdout",
     "output_type": "stream",
     "text": [
      "0.2910996395596953\n",
      "0.023660954310651704\n",
      "0.3688761108279201\n",
      "0.05052775889235215\n",
      "0.00514628497215039\n"
     ]
    }
   ],
   "source": [
    "print(get_answer(exp_num=10000, size=2, tau=0))\n",
    "print(get_answer(exp_num=10000, size=20, tau=0))\n",
    "print(get_answer(exp_num=10000, size=2, tau=0.1))\n",
    "print(get_answer(exp_num=10000, size=20, tau=0.1))\n",
    "print(get_answer(exp_num=10000, size=200, tau=0.1))"
   ]
  },
  {
   "cell_type": "code",
   "execution_count": 37,
   "metadata": {},
   "outputs": [
    {
     "data": {
      "image/png": "[encoded data removed]",
      "text/plain": [
       "<Figure size 1029.6x655.2 with 6 Axes>"
      ]
     },
     "metadata": {
      "needs_background": "light"
     },
     "output_type": "display_data"
    }
   ],
   "source": [
    "import numpy as np\n",
    "import matplotlib.pyplot as plt\n",
    "plt.style.use('bmh')\n",
    "fig, ax = plt.subplots(2, 3, figsize=(11*1.3,7*1.3))\n",
    "# fig.suptitle(\"positively-biased perceptrons in 2D\")\n",
    "\n",
    "x = np.array([1, 2, 3, 4])\n",
    "y = np.array([1, 4, 0, 2.5])\n",
    "\n",
    "hxs = [1.5, 2.5, 3.5]\n",
    "for idx in range(3):\n",
    "    hx = hxs[idx]\n",
    "    lx = []\n",
    "    ly = []\n",
    "    rx = []\n",
    "    ry = []\n",
    "    for i in range(x.shape[0]):\n",
    "        if x[i] > hx:\n",
    "            lx.append(x[i])\n",
    "            ly.append(y[i])\n",
    "        else:\n",
    "            rx.append(x[i])\n",
    "            ry.append(y[i])\n",
    "    ax[0, idx].plot(lx, ly, '.', mew=3, markersize=12, marker = \"o\", color = 'red', label='pos', mfc='none')\n",
    "    ax[0, idx].plot(rx, ry, '.', mew=3, markersize=12, marker = \"x\", label='neg', color='blue')\n",
    "    color = [1, 0.6, 0.6]\n",
    "    ax[0, idx].add_patch(plt.Polygon((np.array([hx, -2]), np.array([6, -2]), np.array([6, 6]), np.array([hx, 6])), facecolor=color, edgecolor=color))\n",
    "    color = [0.7, 0.8, 1]\n",
    "    ax[0, idx].add_patch(plt.Polygon((np.array([-2, -2]), np.array([hx, -2]), np.array([hx, 6]), np.array([-2, 6])), facecolor=color, edgecolor=color))\n",
    "    color = [0.7, 0.4, 1]\n",
    "    ax[0, idx].plot(np.array([hx, hx]), np.array([-2, 6]), linewidth=2.5, label='hyp', color = color)\n",
    "    ax[0, idx].set_xlim(-2, 6)\n",
    "    ax[0, idx].set_ylim(-2, 6)\n",
    "    ax[0, idx].legend()\n",
    "\n",
    "hys = [0.5, 1.5, 3]\n",
    "for idx in range(3):\n",
    "    hy = hys[idx]\n",
    "    dx = []\n",
    "    dy = []\n",
    "    ux = []\n",
    "    uy = []\n",
    "    for i in range(x.shape[0]):\n",
    "        if y[i] > hy:\n",
    "            ux.append(x[i])\n",
    "            uy.append(y[i])\n",
    "        else:\n",
    "            dx.append(x[i])\n",
    "            dy.append(y[i])\n",
    "    ax[1, idx].plot(ux, uy, '.', mew=3, markersize=12, marker = \"o\", color = 'red', label='pos', mfc='none')\n",
    "    ax[1, idx].plot(dx, dy, '.', mew=3, markersize=12, marker = \"x\", label='neg', color='blue')\n",
    "    color = [0.7, 0.8, 1]\n",
    "    ax[1, idx].add_patch(plt.Polygon((np.array([-2, -2]), np.array([6, -2]), np.array([6, hy]), np.array([-2, hy])), facecolor=color, edgecolor=color))\n",
    "    color = [1, 0.6, 0.6]\n",
    "    ax[1, idx].add_patch(plt.Polygon((np.array([-2, hy]), np.array([6, hy]), np.array([6, 6]), np.array([-2, 6])), facecolor=color, edgecolor=color))\n",
    "    color = [0.7, 0.4, 1]\n",
    "    ax[1, idx].plot(np.array([-2, 6]), np.array([hy, hy]), linewidth=2.5, label='hyp', color = color)\n",
    "    ax[1, idx].set_xlim(-2, 6)\n",
    "    ax[1, idx].set_ylim(-2, 6)\n",
    "    ax[1, idx].legend()\n",
    "plt.show()"
   ]
  },
  {
   "cell_type": "code",
   "execution_count": 38,
   "metadata": {},
   "outputs": [
    {
     "data": {
      "image/png": "[encoded data removed]",
      "text/plain": [
       "<Figure size 655.2x655.2 with 4 Axes>"
      ]
     },
     "metadata": {
      "needs_background": "light"
     },
     "output_type": "display_data"
    }
   ],
   "source": [
    "import numpy as np\n",
    "import matplotlib.pyplot as plt\n",
    "plt.style.use('bmh')\n",
    "fig, ax = plt.subplots(2, 2, figsize=(7*1.3,7*1.3))\n",
    "# fig.suptitle(\"positively-biased perceptrons in 2D\")\n",
    "\n",
    "x = np.array([1, 2, 3, 4])\n",
    "y = np.array([1, 4, 0, 2.5])\n",
    "\n",
    "hxs = [0, 4.5]\n",
    "for idx in range(2):\n",
    "    hx = hxs[idx]\n",
    "    lx = []\n",
    "    ly = []\n",
    "    rx = []\n",
    "    ry = []\n",
    "    for i in range(x.shape[0]):\n",
    "        if x[i] > hx:\n",
    "            lx.append(x[i])\n",
    "            ly.append(y[i])\n",
    "        else:\n",
    "            rx.append(x[i])\n",
    "            ry.append(y[i])\n",
    "    ax[0, idx].plot(lx, ly, '.', mew=3, markersize=12, marker = \"o\", color = 'red', label='pos', mfc='none')\n",
    "    ax[0, idx].plot(rx, ry, '.', mew=3, markersize=12, marker = \"x\", label='neg', color='blue')\n",
    "    color = [1, 0.6, 0.6]\n",
    "    ax[0, idx].add_patch(plt.Polygon((np.array([hx, -2]), np.array([6, -2]), np.array([6, 6]), np.array([hx, 6])), facecolor=color, edgecolor=color))\n",
    "    color = [0.7, 0.8, 1]\n",
    "    ax[0, idx].add_patch(plt.Polygon((np.array([-2, -2]), np.array([hx, -2]), np.array([hx, 6]), np.array([-2, 6])), facecolor=color, edgecolor=color))\n",
    "    color = [0.7, 0.4, 1]\n",
    "    ax[0, idx].plot(np.array([hx, hx]), np.array([-2, 6]), linewidth=2.5, label='hyp', color = color)\n",
    "    ax[0, idx].set_xlim(-2, 6)\n",
    "    ax[0, idx].set_ylim(-2, 6)\n",
    "    ax[0, idx].legend()\n",
    "\n",
    "hys = [-0.5, 4.5]\n",
    "for idx in range(2):\n",
    "    hy = hys[idx]\n",
    "    dx = []\n",
    "    dy = []\n",
    "    ux = []\n",
    "    uy = []\n",
    "    for i in range(x.shape[0]):\n",
    "        if y[i] > hy:\n",
    "            ux.append(x[i])\n",
    "            uy.append(y[i])\n",
    "        else:\n",
    "            dx.append(x[i])\n",
    "            dy.append(y[i])\n",
    "    ax[1, idx].plot(ux, uy, '.', mew=3, markersize=12, marker = \"o\", color = 'red', label='pos', mfc='none')\n",
    "    ax[1, idx].plot(dx, dy, '.', mew=3, markersize=12, marker = \"x\", label='neg', color='blue')\n",
    "    color = [0.7, 0.8, 1]\n",
    "    ax[1, idx].add_patch(plt.Polygon((np.array([-2, -2]), np.array([6, -2]), np.array([6, hy]), np.array([-2, hy])), facecolor=color, edgecolor=color))\n",
    "    color = [1, 0.6, 0.6]\n",
    "    ax[1, idx].add_patch(plt.Polygon((np.array([-2, hy]), np.array([6, hy]), np.array([6, 6]), np.array([-2, 6])), facecolor=color, edgecolor=color))\n",
    "    color = [0.7, 0.4, 1]\n",
    "    ax[1, idx].plot(np.array([-2, 6]), np.array([hy, hy]), linewidth=2.5, label='hyp', color = color)\n",
    "    ax[1, idx].set_xlim(-2, 6)\n",
    "    ax[1, idx].set_ylim(-2, 6)\n",
    "    ax[1, idx].legend()\n",
    "plt.show()"
   ]
  },
  {
   "cell_type": "code",
   "execution_count": 156,
   "metadata": {},
   "outputs": [
    {
     "data": {
      "image/png": "[encoded data removed]",
      "text/plain": [
       "<Figure size 1080x72 with 1 Axes>"
      ]
     },
     "metadata": {
      "needs_background": "light"
     },
     "output_type": "display_data"
    }
   ],
   "source": [
    "import numpy as np\n",
    "import matplotlib.pyplot as plt\n",
    "import matplotlib.patches as patches\n",
    "plt.style.use('bmh')\n",
    "fig, ax = plt.subplots(figsize=(15,1))\n",
    "x = 0.25\n",
    "y = -1\n",
    "size = 2\n",
    "color = [1, 0.8, 0.7]\n",
    "rect = plt.Rectangle([x, y], size, size,\n",
    "                                 facecolor=color, edgecolor=color)\n",
    "ax.add_patch(rect)\n",
    "\n",
    "x = -1\n",
    "y = -1\n",
    "size = 2\n",
    "color = [1, 0.8, 0.7]\n",
    "rect = plt.Rectangle([x, y], 0.75, size,\n",
    "                                 facecolor=color, edgecolor=color)\n",
    "ax.add_patch(rect)\n",
    "\n",
    "x = 0\n",
    "y = -1\n",
    "size = 2\n",
    "color = [0.7, 0.9, 0.8]\n",
    "rect = plt.Rectangle([x, y], 0.25, size,\n",
    "                                 facecolor=color, edgecolor=color)\n",
    "ax.add_patch(rect)\n",
    "\n",
    "x = -0.25\n",
    "y = -1\n",
    "size = 2\n",
    "color = [0.7, 0.9, 0.8]\n",
    "rect = plt.Rectangle([x, y], 0.25, size,\n",
    "                                 facecolor=color, edgecolor=color)\n",
    "ax.add_patch(rect)\n",
    "\n",
    "# x = -0.25\n",
    "# y = -1\n",
    "# size = 2\n",
    "# color = [0.7, 0.9, 0.8]\n",
    "# rect = plt.Rectangle([x, y], 0.25, size,\n",
    "#                                  facecolor=color, edgecolor=color)\n",
    "# ax.add_patch(rect)\n",
    "\n",
    "\n",
    "x = -1\n",
    "y = -1\n",
    "\n",
    "plt.plot(np.array([0, 0]), np.array([-1, 1]), linewidth=3, label='target')\n",
    "plt.plot(np.array([-1, 1]), np.array([0, 0]), linewidth=3)\n",
    "plt.plot(np.array([0.25, 0.25]), np.array([-1, 1]), linewidth=3, label='theta > 0')\n",
    "plt.plot(np.array([-0.25, -0.25]), np.array([-1, 1]), linewidth=3, label='theta < 0')\n",
    "\n",
    "plt.xlim(-1, 1)\n",
    "plt.ylim(-0.5, 0.5)\n",
    "plt.title(\"Decision Stump\")\n",
    "plt.xlabel(\"x\")\n",
    "ax.get_yaxis().set_visible(False)\n",
    "ax.legend()\n",
    "plt.show() "
   ]
  },
  {
   "cell_type": "code",
   "execution_count": 47,
   "metadata": {},
   "outputs": [],
   "source": []
  },
  {
   "cell_type": "code",
   "execution_count": 54,
   "metadata": {},
   "outputs": [
    {
     "data": {
      "text/plain": [
       "(1000,)"
      ]
     },
     "execution_count": 54,
     "metadata": {},
     "output_type": "execute_result"
    }
   ],
   "source": [
    "bernoulli.rvs(0.1, size=1000).shape"
   ]
  },
  {
   "cell_type": "code",
   "execution_count": 90,
   "metadata": {},
   "outputs": [],
   "source": [
    "import numpy as np\n",
    "import argparse\n",
    "import random\n",
    "def sign(x):\n",
    "    return -1. if x <= 0 else 1.\n",
    "\n",
    "class Decision_Stump(object):\n",
    "    def __init__(self, tau, random_seed):\n",
    "        random.seed(random_seed + random.randint(1, 10000))\n",
    "        self.tau = tau\n",
    "        self.theta_ls = [-1.]\n",
    "        self.log = {} # ein : (theta , s)\n",
    "        self.smallest_ein = float('inf')\n",
    "\n",
    "    def f(self, x, s, theta):\n",
    "        return s * sign(x-theta)\n",
    "\n",
    "    def train(self, data_x, data_y):\n",
    "        data_size = len(data_x)\n",
    "        assert len(data_x) == len(data_y)\n",
    "        \n",
    "        # build theta list\n",
    "        for idx in range(data_size -1):\n",
    "            self.theta_ls.append((data_x[idx]+data_x[idx+1])/2)\n",
    "            \n",
    "        ein_now = None\n",
    "        correct = 0\n",
    "        for theta_idx , theta in enumerate(self.theta_ls):\n",
    "            if ein_now is None:\n",
    "                for idx in range(data_size):\n",
    "                    if self.f(data_x[idx], 1., theta) == data_y[idx]:\n",
    "                        correct += 1\n",
    "            else:\n",
    "                if self.f(data_x[theta_idx -1], 1., theta) == data_y[theta_idx -1]:\n",
    "                    correct += 1\n",
    "                else:\n",
    "                    correct -= 1\n",
    "            ein_now = 1 - correct/data_size\n",
    "            self.log[ein_now] = (theta, 1.)\n",
    "            self.smallest_ein = ein_now if ein_now < self.smallest_ein else self.smallest_ein\n",
    "            self.log[1-ein_now] = (theta, -1.)\n",
    "            self.smallest_ein = 1-ein_now if 1-ein_now < self.smallest_ein else self.smallest_ein\n",
    "        return self.smallest_ein , self.log[self.smallest_ein]\n",
    "    \n",
    "def data_generator(size, tau):\n",
    "    data_x = sorted([random.uniform(-1, 1) for _ in range(size)])\n",
    "    data_y = [sign(x) for x in data_x]\n",
    "\n",
    "    # add randomness with tau\n",
    "    if tau != 0.:\n",
    "        for y_idx in range(len(data_y)):\n",
    "            if random.uniform(0, 1) < tau:\n",
    "                data_y[y_idx] = -data_y[y_idx]\n",
    "    return data_x, data_y\n",
    "   "
   ]
  },
  {
   "cell_type": "code",
   "execution_count": 135,
   "metadata": {},
   "outputs": [],
   "source": []
  },
  {
   "cell_type": "code",
   "execution_count": 101,
   "metadata": {},
   "outputs": [
    {
     "name": "stdout",
     "output_type": "stream",
     "text": [
      "0.29245198725340404\n",
      "0.023671864358001605\n",
      "0.3454056656224419\n",
      "0.05238717655324691\n",
      "0.005525820402845514\n"
     ]
    }
   ],
   "source": [
    "run(size=2, tau=0)\n",
    "run(size=20, tau=0)\n",
    "run(size=2, tau=0.1)\n",
    "run(size=20, tau=0.1)\n",
    "run(size=200, tau=0.1)"
   ]
  },
  {
   "cell_type": "code",
   "execution_count": 119,
   "metadata": {},
   "outputs": [
    {
     "name": "stdout",
     "output_type": "stream",
     "text": [
      "0.0935 0.0935\n"
     ]
    }
   ],
   "source": [
    "size = 2\n",
    "tau=0.1\n",
    "temp = []\n",
    "temp2 = []\n",
    "for exp_idx in range(1000):\n",
    "    data_x, data_y = data_generator(size, tau)\n",
    "    A = np.array(data_x) > 0\n",
    "    B = np.array(data_y) > 0\n",
    "    temp.append((A!=B).sum()/len(data_y))\n",
    "    \n",
    "    x, y = generate_data(size, tau)\n",
    "    A = x > 0\n",
    "    B = y > 0\n",
    "    temp2.append((A!=B).sum()/len(data_y))\n",
    "    \n",
    "print(np.mean(temp), np.mean(temp2))"
   ]
  },
  {
   "cell_type": "code",
   "execution_count": 129,
   "metadata": {},
   "outputs": [
    {
     "name": "stdout",
     "output_type": "stream",
     "text": [
      "0.094 0.0955\n"
     ]
    }
   ],
   "source": [
    "size = 2\n",
    "tau=0.1\n",
    "temp = []\n",
    "temp2 = []\n",
    "for exp_idx in range(1000):\n",
    "    data_x, data_y = data_generator(size, tau)\n",
    "    A = np.array(data_x) > 0\n",
    "    B = np.array(data_y) > 0\n",
    "    temp.append((A!=B).sum()/len(data_y))\n",
    "    \n",
    "    x, y = generate_data(size, tau)\n",
    "    A = x > 0\n",
    "    B = y > 0\n",
    "    temp2.append((A!=B).sum()/len(data_y))\n",
    "    \n",
    "print(np.mean(temp), np.mean(temp2))"
   ]
  },
  {
   "cell_type": "code",
   "execution_count": null,
   "metadata": {},
   "outputs": [],
   "source": []
  }
 ],
 "metadata": {
  "kernelspec": {
   "display_name": "Python 3",
   "language": "python",
   "name": "python3"
  },
  "language_info": {
   "codemirror_mode": {
    "name": "ipython",
    "version": 3
   },
   "file_extension": ".py",
   "mimetype": "text/x-python",
   "name": "python",
   "nbconvert_exporter": "python",
   "pygments_lexer": "ipython3",
   "version": "3.7.7"
  }
 },
 "nbformat": 4,
 "nbformat_minor": 4
}
