{
 "cells": [
  {
   "cell_type": "code",
   "execution_count": 2,
   "metadata": {},
   "outputs": [],
   "source": [
    "import numpy as np\n",
    "import random\n",
    "import argparse\n",
    "\n",
    "tra_path='hw3_train.dat'\n",
    "tst_path='hw3_test.dat'\n",
    "bias = 1.0\n",
    "\n",
    "def get_data(path, bias=1.0, transform=None):\n",
    "    X = []\n",
    "    for x in open(path, 'r'):\n",
    "        x = x.strip().split('\\t')\n",
    "        x = [float(v) for v in x]\n",
    "        X.append([bias] + x)\n",
    "\n",
    "    X = np.array(X)\n",
    "    X, Y = np.array(X[:, :-1]), np.array(X[:, -1])\n",
    "    \n",
    "    if transform is not None:\n",
    "        X = transform(X)\n",
    "    \n",
    "    return X, Y\n",
    "\n",
    "def get_wLIN(X, Y):\n",
    "    X_plus = np.matmul(np.linalg.inv(np.matmul(X.T, X)), X.T)\n",
    "    return np.matmul(X_plus, Y)\n",
    "\n",
    "def sigmoid(s):\n",
    "    return 1 / (1 + np.exp(-s))\n",
    "\n",
    "def sign(s):\n",
    "    s = np.sign(s)\n",
    "    s[s == 0] = -1\n",
    "    return s\n",
    "\n",
    "def Q_transform(X, Q=3):\n",
    "    return np.hstack([X]+[X[:, 1:]**q for q in range(2, Q+1)])\n",
    "        \n",
    "def err(w, X, Y, mode='sqr'):\n",
    "    Y_pred = np.matmul(X, w)\n",
    "    if mode == 'sqr':\n",
    "        return ((Y_pred - Y)**2).mean()\n",
    "    elif mode == 'ce':\n",
    "        return -np.log(sigmoid(Y * Y_pred)).mean()\n",
    "    elif mode == '01':\n",
    "        Y_pred = sign(Y_pred)\n",
    "        return (Y.astype(int) != Y_pred.astype(int)).mean()\n",
    "        \n",
    "def SGD(X, Y, lr, w_init=None, step_num=5566, mode='sqr'):\n",
    "    def random_pick(X, Y):\n",
    "        idx = random.randint(0, X.shape[0] - 1)\n",
    "        return X[idx:idx+1], Y[idx:idx+1]\n",
    "        \n",
    "    def grad_func(w, X, Y, mode):\n",
    "        batch_size = X.shape[0]\n",
    "        if mode == 'sqr':\n",
    "            return -(2 / batch_size) * (np.matmul(X.T, np.matmul(X, w)) - np.matmul(X.T, Y))\n",
    "        elif mode == 'ce':\n",
    "            return np.mean(sigmoid(-Y * np.matmul(X, w)).reshape(-1, 1) * (Y.reshape(-1, 1) * X), axis=0)\n",
    "    \n",
    "    def update_w(w, x, y, lr):        \n",
    "        return w + lr * grad_func(w, x, y, mode)\n",
    "    \n",
    "    if mode == 'sqr':\n",
    "        wLIN = get_wLIN(X, Y)\n",
    "        \n",
    "    # initialization\n",
    "    step = 0\n",
    "    w = np.zeros(X.shape[1:]) if w_init is None else w_init\n",
    "        \n",
    "    # training\n",
    "    while step < step_num:\n",
    "        x, y = random_pick(X, Y)\n",
    "        w = update_w(w, x, y, lr)\n",
    "        step += 1\n",
    "        \n",
    "        # check early stopping\n",
    "        if mode == 'sqr':\n",
    "            Y_pred = np.matmul(X, wLIN)\n",
    "            E_in_sqr_LIN = sqr_err(Y_pred, Y)\n",
    "            \n",
    "            Y_pred = np.matmul(X, w)\n",
    "            E_in_sqr = sqr_err(Y_pred, Y)\n",
    "            if E_in_sqr <= 1.01 * E_in_sqr_LIN:\n",
    "                break\n",
    "    \n",
    "    return w, step\n",
    "\n",
    "X_tra, Y_tra = get_data(tra_path)\n",
    "X_tst, Y_tst = get_data(tst_path)"
   ]
  },
  {
   "cell_type": "code",
   "execution_count": 40,
   "metadata": {},
   "outputs": [
    {
     "name": "stdout",
     "output_type": "stream",
     "text": [
      "0.6053223804672917\n"
     ]
    }
   ],
   "source": [
    "wLIN = get_wLIN(X_tra, Y_tra)\n",
    "print(err(wLIN, X_tra, Y_tra, mode='sqr'))"
   ]
  },
  {
   "cell_type": "code",
   "execution_count": 5,
   "metadata": {},
   "outputs": [
    {
     "name": "stdout",
     "output_type": "stream",
     "text": [
      "1721.31\n"
     ]
    }
   ],
   "source": [
    "update_num_list = []\n",
    "for _ in range(1000):\n",
    "    _, update_num = SGD(X_tra, Y_tra, lr=0.001)\n",
    "    update_num_list.append(update_num)\n",
    "print(np.mean(update_num_list))"
   ]
  },
  {
   "cell_type": "code",
   "execution_count": 13,
   "metadata": {},
   "outputs": [
    {
     "name": "stdout",
     "output_type": "stream",
     "text": [
      "0.5692749939818216\n"
     ]
    }
   ],
   "source": [
    "ce_loss_list = []\n",
    "for _ in range(1000):\n",
    "    w, _ = SGD(X_tra, Y_tra, lr=0.001, step_num=500, mode='ce')\n",
    "    ce_loss = err(w, X_tra, Y_tra, mode='ce')\n",
    "    ce_loss_list.append(ce_loss)\n",
    "print(np.mean(ce_loss_list))"
   ]
  },
  {
   "cell_type": "code",
   "execution_count": 22,
   "metadata": {},
   "outputs": [
    {
     "name": "stdout",
     "output_type": "stream",
     "text": [
      "0.5028919699941422\n"
     ]
    }
   ],
   "source": [
    "ce_loss_list = []\n",
    "for _ in range(1000):\n",
    "    w, _ = SGD(X_tra, Y_tra, lr=0.001, w_init=wLIN, step_num=500, mode='ce')\n",
    "    ce_loss = err(w, X_tra, Y_tra, mode='ce')\n",
    "    ce_loss_list.append(ce_loss)\n",
    "print(np.mean(ce_loss_list))"
   ]
  },
  {
   "cell_type": "code",
   "execution_count": 31,
   "metadata": {},
   "outputs": [
    {
     "data": {
      "text/plain": [
       "0.3226666666666666"
      ]
     },
     "execution_count": 31,
     "metadata": {},
     "output_type": "execute_result"
    }
   ],
   "source": [
    "abs(err(wLIN, X_tst, Y_tst, mode='01') - err(wLIN, X_tra, Y_tra, mode='01'))"
   ]
  },
  {
   "cell_type": "code",
   "execution_count": 38,
   "metadata": {},
   "outputs": [
    {
     "data": {
      "text/plain": [
       "0.37366666666666665"
      ]
     },
     "execution_count": 38,
     "metadata": {},
     "output_type": "execute_result"
    }
   ],
   "source": [
    "X_tra_Q = Q_transform(X_tra, Q=3)\n",
    "X_tst_Q = Q_transform(X_tst, Q=3)\n",
    "wLIN_Q = get_wLIN(X_tra_Q, Y_tra)\n",
    "abs(err(wLIN_Q, X_tst_Q, Y_tst, mode='01') - err(wLIN_Q, X_tra_Q, Y_tra, mode='01'))"
   ]
  },
  {
   "cell_type": "code",
   "execution_count": 39,
   "metadata": {},
   "outputs": [
    {
     "data": {
      "text/plain": [
       "0.44666666666666666"
      ]
     },
     "execution_count": 39,
     "metadata": {},
     "output_type": "execute_result"
    }
   ],
   "source": [
    "X_tra_Q = Q_transform(X_tra, Q=10)\n",
    "X_tst_Q = Q_transform(X_tst, Q=10)\n",
    "wLIN_Q = get_wLIN(X_tra_Q, Y_tra)\n",
    "abs(err(wLIN_Q, X_tst_Q, Y_tst, mode='01') - err(wLIN_Q, X_tra_Q, Y_tra, mode='01'))"
   ]
  },
  {
   "cell_type": "code",
   "execution_count": 20,
   "metadata": {},
   "outputs": [
    {
     "name": "stdout",
     "output_type": "stream",
     "text": [
      "0\n",
      "4\n"
     ]
    }
   ],
   "source": [
    "def f(x1, x2):\n",
    "    return np.array([1, x1, x2, x1*x1, x1*x2, x2*x2])\n",
    "X = [[0, 1, -1], [1,-0.5, -1], [-1, 0, -1], [-1,2,1], [2,0,1], [1,-1.5,1], [0,-2,1]]\n",
    "w = np.array([[-9,1,0,2,-2,3], [-5,-1,2,3,-7,2], [9,-1,4,2,-2,3], [2,1,-4,-2,7,-4], [-7,0,0,2,-2,3]])\n",
    "for i in range(len(w)):\n",
    "    c = 0\n",
    "    for x in X:\n",
    "        z = f(x[0], x[1])\n",
    "        pred = int(np.sign(sum(z * w[i])))\n",
    "        if pred == 0:\n",
    "            pred = -1\n",
    "        if int(pred) != x[2]:\n",
    "            c += 1\n",
    "    if c == 0:\n",
    "        print(i)"
   ]
  },
  {
   "cell_type": "code",
   "execution_count": null,
   "metadata": {},
   "outputs": [],
   "source": []
  }
 ],
 "metadata": {
  "kernelspec": {
   "display_name": "Python 3",
   "language": "python",
   "name": "python3"
  },
  "language_info": {
   "codemirror_mode": {
    "name": "ipython",
    "version": 3
   },
   "file_extension": ".py",
   "mimetype": "text/x-python",
   "name": "python",
   "nbconvert_exporter": "python",
   "pygments_lexer": "ipython3",
   "version": "3.7.7"
  }
 },
 "nbformat": 4,
 "nbformat_minor": 4
}
